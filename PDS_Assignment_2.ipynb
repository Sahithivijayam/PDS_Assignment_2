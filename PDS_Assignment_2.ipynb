{
  "nbformat": 4,
  "nbformat_minor": 0,
  "metadata": {
    "colab": {
      "provenance": []
    },
    "kernelspec": {
      "name": "python3",
      "display_name": "Python 3"
    },
    "language_info": {
      "name": "python"
    }
  },
  "cells": [
    {
      "cell_type": "code",
      "execution_count": 1,
      "metadata": {
        "id": "4Qj7vlkLNieE"
      },
      "outputs": [],
      "source": [
        "import pandas as pd\n",
        "import numpy as np\n",
        "import re\n",
        "import datetime"
      ]
    },
    {
      "cell_type": "code",
      "source": [
        "from google.colab import files\n",
        "uploaded = files.upload()"
      ],
      "metadata": {
        "colab": {
          "base_uri": "https://localhost:8080/",
          "height": 74
        },
        "id": "JXSJjiN6Nl40",
        "outputId": "0b5611c2-2c17-4609-b0eb-059797419fa1"
      },
      "execution_count": 2,
      "outputs": [
        {
          "output_type": "display_data",
          "data": {
            "text/plain": [
              "<IPython.core.display.HTML object>"
            ],
            "text/html": [
              "\n",
              "     <input type=\"file\" id=\"files-0bfd2a51-7d78-4dd4-ad47-ebfdf7be6077\" name=\"files[]\" multiple disabled\n",
              "        style=\"border:none\" />\n",
              "     <output id=\"result-0bfd2a51-7d78-4dd4-ad47-ebfdf7be6077\">\n",
              "      Upload widget is only available when the cell has been executed in the\n",
              "      current browser session. Please rerun this cell to enable.\n",
              "      </output>\n",
              "      <script>// Copyright 2017 Google LLC\n",
              "//\n",
              "// Licensed under the Apache License, Version 2.0 (the \"License\");\n",
              "// you may not use this file except in compliance with the License.\n",
              "// You may obtain a copy of the License at\n",
              "//\n",
              "//      http://www.apache.org/licenses/LICENSE-2.0\n",
              "//\n",
              "// Unless required by applicable law or agreed to in writing, software\n",
              "// distributed under the License is distributed on an \"AS IS\" BASIS,\n",
              "// WITHOUT WARRANTIES OR CONDITIONS OF ANY KIND, either express or implied.\n",
              "// See the License for the specific language governing permissions and\n",
              "// limitations under the License.\n",
              "\n",
              "/**\n",
              " * @fileoverview Helpers for google.colab Python module.\n",
              " */\n",
              "(function(scope) {\n",
              "function span(text, styleAttributes = {}) {\n",
              "  const element = document.createElement('span');\n",
              "  element.textContent = text;\n",
              "  for (const key of Object.keys(styleAttributes)) {\n",
              "    element.style[key] = styleAttributes[key];\n",
              "  }\n",
              "  return element;\n",
              "}\n",
              "\n",
              "// Max number of bytes which will be uploaded at a time.\n",
              "const MAX_PAYLOAD_SIZE = 100 * 1024;\n",
              "\n",
              "function _uploadFiles(inputId, outputId) {\n",
              "  const steps = uploadFilesStep(inputId, outputId);\n",
              "  const outputElement = document.getElementById(outputId);\n",
              "  // Cache steps on the outputElement to make it available for the next call\n",
              "  // to uploadFilesContinue from Python.\n",
              "  outputElement.steps = steps;\n",
              "\n",
              "  return _uploadFilesContinue(outputId);\n",
              "}\n",
              "\n",
              "// This is roughly an async generator (not supported in the browser yet),\n",
              "// where there are multiple asynchronous steps and the Python side is going\n",
              "// to poll for completion of each step.\n",
              "// This uses a Promise to block the python side on completion of each step,\n",
              "// then passes the result of the previous step as the input to the next step.\n",
              "function _uploadFilesContinue(outputId) {\n",
              "  const outputElement = document.getElementById(outputId);\n",
              "  const steps = outputElement.steps;\n",
              "\n",
              "  const next = steps.next(outputElement.lastPromiseValue);\n",
              "  return Promise.resolve(next.value.promise).then((value) => {\n",
              "    // Cache the last promise value to make it available to the next\n",
              "    // step of the generator.\n",
              "    outputElement.lastPromiseValue = value;\n",
              "    return next.value.response;\n",
              "  });\n",
              "}\n",
              "\n",
              "/**\n",
              " * Generator function which is called between each async step of the upload\n",
              " * process.\n",
              " * @param {string} inputId Element ID of the input file picker element.\n",
              " * @param {string} outputId Element ID of the output display.\n",
              " * @return {!Iterable<!Object>} Iterable of next steps.\n",
              " */\n",
              "function* uploadFilesStep(inputId, outputId) {\n",
              "  const inputElement = document.getElementById(inputId);\n",
              "  inputElement.disabled = false;\n",
              "\n",
              "  const outputElement = document.getElementById(outputId);\n",
              "  outputElement.innerHTML = '';\n",
              "\n",
              "  const pickedPromise = new Promise((resolve) => {\n",
              "    inputElement.addEventListener('change', (e) => {\n",
              "      resolve(e.target.files);\n",
              "    });\n",
              "  });\n",
              "\n",
              "  const cancel = document.createElement('button');\n",
              "  inputElement.parentElement.appendChild(cancel);\n",
              "  cancel.textContent = 'Cancel upload';\n",
              "  const cancelPromise = new Promise((resolve) => {\n",
              "    cancel.onclick = () => {\n",
              "      resolve(null);\n",
              "    };\n",
              "  });\n",
              "\n",
              "  // Wait for the user to pick the files.\n",
              "  const files = yield {\n",
              "    promise: Promise.race([pickedPromise, cancelPromise]),\n",
              "    response: {\n",
              "      action: 'starting',\n",
              "    }\n",
              "  };\n",
              "\n",
              "  cancel.remove();\n",
              "\n",
              "  // Disable the input element since further picks are not allowed.\n",
              "  inputElement.disabled = true;\n",
              "\n",
              "  if (!files) {\n",
              "    return {\n",
              "      response: {\n",
              "        action: 'complete',\n",
              "      }\n",
              "    };\n",
              "  }\n",
              "\n",
              "  for (const file of files) {\n",
              "    const li = document.createElement('li');\n",
              "    li.append(span(file.name, {fontWeight: 'bold'}));\n",
              "    li.append(span(\n",
              "        `(${file.type || 'n/a'}) - ${file.size} bytes, ` +\n",
              "        `last modified: ${\n",
              "            file.lastModifiedDate ? file.lastModifiedDate.toLocaleDateString() :\n",
              "                                    'n/a'} - `));\n",
              "    const percent = span('0% done');\n",
              "    li.appendChild(percent);\n",
              "\n",
              "    outputElement.appendChild(li);\n",
              "\n",
              "    const fileDataPromise = new Promise((resolve) => {\n",
              "      const reader = new FileReader();\n",
              "      reader.onload = (e) => {\n",
              "        resolve(e.target.result);\n",
              "      };\n",
              "      reader.readAsArrayBuffer(file);\n",
              "    });\n",
              "    // Wait for the data to be ready.\n",
              "    let fileData = yield {\n",
              "      promise: fileDataPromise,\n",
              "      response: {\n",
              "        action: 'continue',\n",
              "      }\n",
              "    };\n",
              "\n",
              "    // Use a chunked sending to avoid message size limits. See b/62115660.\n",
              "    let position = 0;\n",
              "    do {\n",
              "      const length = Math.min(fileData.byteLength - position, MAX_PAYLOAD_SIZE);\n",
              "      const chunk = new Uint8Array(fileData, position, length);\n",
              "      position += length;\n",
              "\n",
              "      const base64 = btoa(String.fromCharCode.apply(null, chunk));\n",
              "      yield {\n",
              "        response: {\n",
              "          action: 'append',\n",
              "          file: file.name,\n",
              "          data: base64,\n",
              "        },\n",
              "      };\n",
              "\n",
              "      let percentDone = fileData.byteLength === 0 ?\n",
              "          100 :\n",
              "          Math.round((position / fileData.byteLength) * 100);\n",
              "      percent.textContent = `${percentDone}% done`;\n",
              "\n",
              "    } while (position < fileData.byteLength);\n",
              "  }\n",
              "\n",
              "  // All done.\n",
              "  yield {\n",
              "    response: {\n",
              "      action: 'complete',\n",
              "    }\n",
              "  };\n",
              "}\n",
              "\n",
              "scope.google = scope.google || {};\n",
              "scope.google.colab = scope.google.colab || {};\n",
              "scope.google.colab._files = {\n",
              "  _uploadFiles,\n",
              "  _uploadFilesContinue,\n",
              "};\n",
              "})(self);\n",
              "</script> "
            ]
          },
          "metadata": {}
        },
        {
          "output_type": "stream",
          "name": "stdout",
          "text": [
            "Saving train.csv to train.csv\n"
          ]
        }
      ]
    },
    {
      "cell_type": "code",
      "source": [
        "df = pd.read_csv(\"train.csv\")\n",
        "df.head()"
      ],
      "metadata": {
        "colab": {
          "base_uri": "https://localhost:8080/",
          "height": 310
        },
        "id": "bM7ZLI07NrHK",
        "outputId": "1e5d7ef4-c640-42fb-a623-47223be088b5"
      },
      "execution_count": 3,
      "outputs": [
        {
          "output_type": "execute_result",
          "data": {
            "text/plain": [
              "   Unnamed: 0                              Name    Location  Year  \\\n",
              "0           1  Hyundai Creta 1.6 CRDi SX Option        Pune  2015   \n",
              "1           2                      Honda Jazz V     Chennai  2011   \n",
              "2           3                 Maruti Ertiga VDI     Chennai  2012   \n",
              "3           4   Audi A4 New 2.0 TDI Multitronic  Coimbatore  2013   \n",
              "4           6            Nissan Micra Diesel XV      Jaipur  2013   \n",
              "\n",
              "   Kilometers_Driven Fuel_Type Transmission Owner_Type     Mileage   Engine  \\\n",
              "0              41000    Diesel       Manual      First  19.67 kmpl  1582 CC   \n",
              "1              46000    Petrol       Manual      First    13 km/kg  1199 CC   \n",
              "2              87000    Diesel       Manual      First  20.77 kmpl  1248 CC   \n",
              "3              40670    Diesel    Automatic     Second   15.2 kmpl  1968 CC   \n",
              "4              86999    Diesel       Manual      First  23.08 kmpl  1461 CC   \n",
              "\n",
              "       Power  Seats  New_Price  Price  \n",
              "0  126.2 bhp    5.0        NaN  12.50  \n",
              "1   88.7 bhp    5.0  8.61 Lakh   4.50  \n",
              "2  88.76 bhp    7.0        NaN   6.00  \n",
              "3  140.8 bhp    5.0        NaN  17.74  \n",
              "4   63.1 bhp    5.0        NaN   3.50  "
            ],
            "text/html": [
              "\n",
              "  <div id=\"df-bee5aef4-f141-436f-8387-86cc5f5523e2\" class=\"colab-df-container\">\n",
              "    <div>\n",
              "<style scoped>\n",
              "    .dataframe tbody tr th:only-of-type {\n",
              "        vertical-align: middle;\n",
              "    }\n",
              "\n",
              "    .dataframe tbody tr th {\n",
              "        vertical-align: top;\n",
              "    }\n",
              "\n",
              "    .dataframe thead th {\n",
              "        text-align: right;\n",
              "    }\n",
              "</style>\n",
              "<table border=\"1\" class=\"dataframe\">\n",
              "  <thead>\n",
              "    <tr style=\"text-align: right;\">\n",
              "      <th></th>\n",
              "      <th>Unnamed: 0</th>\n",
              "      <th>Name</th>\n",
              "      <th>Location</th>\n",
              "      <th>Year</th>\n",
              "      <th>Kilometers_Driven</th>\n",
              "      <th>Fuel_Type</th>\n",
              "      <th>Transmission</th>\n",
              "      <th>Owner_Type</th>\n",
              "      <th>Mileage</th>\n",
              "      <th>Engine</th>\n",
              "      <th>Power</th>\n",
              "      <th>Seats</th>\n",
              "      <th>New_Price</th>\n",
              "      <th>Price</th>\n",
              "    </tr>\n",
              "  </thead>\n",
              "  <tbody>\n",
              "    <tr>\n",
              "      <th>0</th>\n",
              "      <td>1</td>\n",
              "      <td>Hyundai Creta 1.6 CRDi SX Option</td>\n",
              "      <td>Pune</td>\n",
              "      <td>2015</td>\n",
              "      <td>41000</td>\n",
              "      <td>Diesel</td>\n",
              "      <td>Manual</td>\n",
              "      <td>First</td>\n",
              "      <td>19.67 kmpl</td>\n",
              "      <td>1582 CC</td>\n",
              "      <td>126.2 bhp</td>\n",
              "      <td>5.0</td>\n",
              "      <td>NaN</td>\n",
              "      <td>12.50</td>\n",
              "    </tr>\n",
              "    <tr>\n",
              "      <th>1</th>\n",
              "      <td>2</td>\n",
              "      <td>Honda Jazz V</td>\n",
              "      <td>Chennai</td>\n",
              "      <td>2011</td>\n",
              "      <td>46000</td>\n",
              "      <td>Petrol</td>\n",
              "      <td>Manual</td>\n",
              "      <td>First</td>\n",
              "      <td>13 km/kg</td>\n",
              "      <td>1199 CC</td>\n",
              "      <td>88.7 bhp</td>\n",
              "      <td>5.0</td>\n",
              "      <td>8.61 Lakh</td>\n",
              "      <td>4.50</td>\n",
              "    </tr>\n",
              "    <tr>\n",
              "      <th>2</th>\n",
              "      <td>3</td>\n",
              "      <td>Maruti Ertiga VDI</td>\n",
              "      <td>Chennai</td>\n",
              "      <td>2012</td>\n",
              "      <td>87000</td>\n",
              "      <td>Diesel</td>\n",
              "      <td>Manual</td>\n",
              "      <td>First</td>\n",
              "      <td>20.77 kmpl</td>\n",
              "      <td>1248 CC</td>\n",
              "      <td>88.76 bhp</td>\n",
              "      <td>7.0</td>\n",
              "      <td>NaN</td>\n",
              "      <td>6.00</td>\n",
              "    </tr>\n",
              "    <tr>\n",
              "      <th>3</th>\n",
              "      <td>4</td>\n",
              "      <td>Audi A4 New 2.0 TDI Multitronic</td>\n",
              "      <td>Coimbatore</td>\n",
              "      <td>2013</td>\n",
              "      <td>40670</td>\n",
              "      <td>Diesel</td>\n",
              "      <td>Automatic</td>\n",
              "      <td>Second</td>\n",
              "      <td>15.2 kmpl</td>\n",
              "      <td>1968 CC</td>\n",
              "      <td>140.8 bhp</td>\n",
              "      <td>5.0</td>\n",
              "      <td>NaN</td>\n",
              "      <td>17.74</td>\n",
              "    </tr>\n",
              "    <tr>\n",
              "      <th>4</th>\n",
              "      <td>6</td>\n",
              "      <td>Nissan Micra Diesel XV</td>\n",
              "      <td>Jaipur</td>\n",
              "      <td>2013</td>\n",
              "      <td>86999</td>\n",
              "      <td>Diesel</td>\n",
              "      <td>Manual</td>\n",
              "      <td>First</td>\n",
              "      <td>23.08 kmpl</td>\n",
              "      <td>1461 CC</td>\n",
              "      <td>63.1 bhp</td>\n",
              "      <td>5.0</td>\n",
              "      <td>NaN</td>\n",
              "      <td>3.50</td>\n",
              "    </tr>\n",
              "  </tbody>\n",
              "</table>\n",
              "</div>\n",
              "    <div class=\"colab-df-buttons\">\n",
              "\n",
              "  <div class=\"colab-df-container\">\n",
              "    <button class=\"colab-df-convert\" onclick=\"convertToInteractive('df-bee5aef4-f141-436f-8387-86cc5f5523e2')\"\n",
              "            title=\"Convert this dataframe to an interactive table.\"\n",
              "            style=\"display:none;\">\n",
              "\n",
              "  <svg xmlns=\"http://www.w3.org/2000/svg\" height=\"24px\" viewBox=\"0 -960 960 960\">\n",
              "    <path d=\"M120-120v-720h720v720H120Zm60-500h600v-160H180v160Zm220 220h160v-160H400v160Zm0 220h160v-160H400v160ZM180-400h160v-160H180v160Zm440 0h160v-160H620v160ZM180-180h160v-160H180v160Zm440 0h160v-160H620v160Z\"/>\n",
              "  </svg>\n",
              "    </button>\n",
              "\n",
              "  <style>\n",
              "    .colab-df-container {\n",
              "      display:flex;\n",
              "      gap: 12px;\n",
              "    }\n",
              "\n",
              "    .colab-df-convert {\n",
              "      background-color: #E8F0FE;\n",
              "      border: none;\n",
              "      border-radius: 50%;\n",
              "      cursor: pointer;\n",
              "      display: none;\n",
              "      fill: #1967D2;\n",
              "      height: 32px;\n",
              "      padding: 0 0 0 0;\n",
              "      width: 32px;\n",
              "    }\n",
              "\n",
              "    .colab-df-convert:hover {\n",
              "      background-color: #E2EBFA;\n",
              "      box-shadow: 0px 1px 2px rgba(60, 64, 67, 0.3), 0px 1px 3px 1px rgba(60, 64, 67, 0.15);\n",
              "      fill: #174EA6;\n",
              "    }\n",
              "\n",
              "    .colab-df-buttons div {\n",
              "      margin-bottom: 4px;\n",
              "    }\n",
              "\n",
              "    [theme=dark] .colab-df-convert {\n",
              "      background-color: #3B4455;\n",
              "      fill: #D2E3FC;\n",
              "    }\n",
              "\n",
              "    [theme=dark] .colab-df-convert:hover {\n",
              "      background-color: #434B5C;\n",
              "      box-shadow: 0px 1px 3px 1px rgba(0, 0, 0, 0.15);\n",
              "      filter: drop-shadow(0px 1px 2px rgba(0, 0, 0, 0.3));\n",
              "      fill: #FFFFFF;\n",
              "    }\n",
              "  </style>\n",
              "\n",
              "    <script>\n",
              "      const buttonEl =\n",
              "        document.querySelector('#df-bee5aef4-f141-436f-8387-86cc5f5523e2 button.colab-df-convert');\n",
              "      buttonEl.style.display =\n",
              "        google.colab.kernel.accessAllowed ? 'block' : 'none';\n",
              "\n",
              "      async function convertToInteractive(key) {\n",
              "        const element = document.querySelector('#df-bee5aef4-f141-436f-8387-86cc5f5523e2');\n",
              "        const dataTable =\n",
              "          await google.colab.kernel.invokeFunction('convertToInteractive',\n",
              "                                                    [key], {});\n",
              "        if (!dataTable) return;\n",
              "\n",
              "        const docLinkHtml = 'Like what you see? Visit the ' +\n",
              "          '<a target=\"_blank\" href=https://colab.research.google.com/notebooks/data_table.ipynb>data table notebook</a>'\n",
              "          + ' to learn more about interactive tables.';\n",
              "        element.innerHTML = '';\n",
              "        dataTable['output_type'] = 'display_data';\n",
              "        await google.colab.output.renderOutput(dataTable, element);\n",
              "        const docLink = document.createElement('div');\n",
              "        docLink.innerHTML = docLinkHtml;\n",
              "        element.appendChild(docLink);\n",
              "      }\n",
              "    </script>\n",
              "  </div>\n",
              "\n",
              "\n",
              "<div id=\"df-2b7c7c00-e2f1-48c7-8e7b-2313c5ca508a\">\n",
              "  <button class=\"colab-df-quickchart\" onclick=\"quickchart('df-2b7c7c00-e2f1-48c7-8e7b-2313c5ca508a')\"\n",
              "            title=\"Suggest charts\"\n",
              "            style=\"display:none;\">\n",
              "\n",
              "<svg xmlns=\"http://www.w3.org/2000/svg\" height=\"24px\"viewBox=\"0 0 24 24\"\n",
              "     width=\"24px\">\n",
              "    <g>\n",
              "        <path d=\"M19 3H5c-1.1 0-2 .9-2 2v14c0 1.1.9 2 2 2h14c1.1 0 2-.9 2-2V5c0-1.1-.9-2-2-2zM9 17H7v-7h2v7zm4 0h-2V7h2v10zm4 0h-2v-4h2v4z\"/>\n",
              "    </g>\n",
              "</svg>\n",
              "  </button>\n",
              "\n",
              "<style>\n",
              "  .colab-df-quickchart {\n",
              "      --bg-color: #E8F0FE;\n",
              "      --fill-color: #1967D2;\n",
              "      --hover-bg-color: #E2EBFA;\n",
              "      --hover-fill-color: #174EA6;\n",
              "      --disabled-fill-color: #AAA;\n",
              "      --disabled-bg-color: #DDD;\n",
              "  }\n",
              "\n",
              "  [theme=dark] .colab-df-quickchart {\n",
              "      --bg-color: #3B4455;\n",
              "      --fill-color: #D2E3FC;\n",
              "      --hover-bg-color: #434B5C;\n",
              "      --hover-fill-color: #FFFFFF;\n",
              "      --disabled-bg-color: #3B4455;\n",
              "      --disabled-fill-color: #666;\n",
              "  }\n",
              "\n",
              "  .colab-df-quickchart {\n",
              "    background-color: var(--bg-color);\n",
              "    border: none;\n",
              "    border-radius: 50%;\n",
              "    cursor: pointer;\n",
              "    display: none;\n",
              "    fill: var(--fill-color);\n",
              "    height: 32px;\n",
              "    padding: 0;\n",
              "    width: 32px;\n",
              "  }\n",
              "\n",
              "  .colab-df-quickchart:hover {\n",
              "    background-color: var(--hover-bg-color);\n",
              "    box-shadow: 0 1px 2px rgba(60, 64, 67, 0.3), 0 1px 3px 1px rgba(60, 64, 67, 0.15);\n",
              "    fill: var(--button-hover-fill-color);\n",
              "  }\n",
              "\n",
              "  .colab-df-quickchart-complete:disabled,\n",
              "  .colab-df-quickchart-complete:disabled:hover {\n",
              "    background-color: var(--disabled-bg-color);\n",
              "    fill: var(--disabled-fill-color);\n",
              "    box-shadow: none;\n",
              "  }\n",
              "\n",
              "  .colab-df-spinner {\n",
              "    border: 2px solid var(--fill-color);\n",
              "    border-color: transparent;\n",
              "    border-bottom-color: var(--fill-color);\n",
              "    animation:\n",
              "      spin 1s steps(1) infinite;\n",
              "  }\n",
              "\n",
              "  @keyframes spin {\n",
              "    0% {\n",
              "      border-color: transparent;\n",
              "      border-bottom-color: var(--fill-color);\n",
              "      border-left-color: var(--fill-color);\n",
              "    }\n",
              "    20% {\n",
              "      border-color: transparent;\n",
              "      border-left-color: var(--fill-color);\n",
              "      border-top-color: var(--fill-color);\n",
              "    }\n",
              "    30% {\n",
              "      border-color: transparent;\n",
              "      border-left-color: var(--fill-color);\n",
              "      border-top-color: var(--fill-color);\n",
              "      border-right-color: var(--fill-color);\n",
              "    }\n",
              "    40% {\n",
              "      border-color: transparent;\n",
              "      border-right-color: var(--fill-color);\n",
              "      border-top-color: var(--fill-color);\n",
              "    }\n",
              "    60% {\n",
              "      border-color: transparent;\n",
              "      border-right-color: var(--fill-color);\n",
              "    }\n",
              "    80% {\n",
              "      border-color: transparent;\n",
              "      border-right-color: var(--fill-color);\n",
              "      border-bottom-color: var(--fill-color);\n",
              "    }\n",
              "    90% {\n",
              "      border-color: transparent;\n",
              "      border-bottom-color: var(--fill-color);\n",
              "    }\n",
              "  }\n",
              "</style>\n",
              "\n",
              "  <script>\n",
              "    async function quickchart(key) {\n",
              "      const quickchartButtonEl =\n",
              "        document.querySelector('#' + key + ' button');\n",
              "      quickchartButtonEl.disabled = true;  // To prevent multiple clicks.\n",
              "      quickchartButtonEl.classList.add('colab-df-spinner');\n",
              "      try {\n",
              "        const charts = await google.colab.kernel.invokeFunction(\n",
              "            'suggestCharts', [key], {});\n",
              "      } catch (error) {\n",
              "        console.error('Error during call to suggestCharts:', error);\n",
              "      }\n",
              "      quickchartButtonEl.classList.remove('colab-df-spinner');\n",
              "      quickchartButtonEl.classList.add('colab-df-quickchart-complete');\n",
              "    }\n",
              "    (() => {\n",
              "      let quickchartButtonEl =\n",
              "        document.querySelector('#df-2b7c7c00-e2f1-48c7-8e7b-2313c5ca508a button');\n",
              "      quickchartButtonEl.style.display =\n",
              "        google.colab.kernel.accessAllowed ? 'block' : 'none';\n",
              "    })();\n",
              "  </script>\n",
              "</div>\n",
              "\n",
              "    </div>\n",
              "  </div>\n"
            ],
            "application/vnd.google.colaboratory.intrinsic+json": {
              "type": "dataframe",
              "variable_name": "df",
              "summary": "{\n  \"name\": \"df\",\n  \"rows\": 5847,\n  \"fields\": [\n    {\n      \"column\": \"Unnamed: 0\",\n      \"properties\": {\n        \"dtype\": \"number\",\n        \"std\": 1736,\n        \"min\": 1,\n        \"max\": 6018,\n        \"num_unique_values\": 5847,\n        \"samples\": [\n          5259,\n          3413,\n          4365\n        ],\n        \"semantic_type\": \"\",\n        \"description\": \"\"\n      }\n    },\n    {\n      \"column\": \"Name\",\n      \"properties\": {\n        \"dtype\": \"category\",\n        \"num_unique_values\": 1804,\n        \"samples\": [\n          \"BMW 7 Series 2007-2012 750Li\",\n          \"Maruti Ertiga SHVS VDI\",\n          \"Mahindra XUV300 W8 Diesel\"\n        ],\n        \"semantic_type\": \"\",\n        \"description\": \"\"\n      }\n    },\n    {\n      \"column\": \"Location\",\n      \"properties\": {\n        \"dtype\": \"category\",\n        \"num_unique_values\": 11,\n        \"samples\": [\n          \"Kochi\",\n          \"Pune\",\n          \"Hyderabad\"\n        ],\n        \"semantic_type\": \"\",\n        \"description\": \"\"\n      }\n    },\n    {\n      \"column\": \"Year\",\n      \"properties\": {\n        \"dtype\": \"number\",\n        \"std\": 3,\n        \"min\": 1998,\n        \"max\": 2019,\n        \"num_unique_values\": 22,\n        \"samples\": [\n          2015,\n          2006,\n          2010\n        ],\n        \"semantic_type\": \"\",\n        \"description\": \"\"\n      }\n    },\n    {\n      \"column\": \"Kilometers_Driven\",\n      \"properties\": {\n        \"dtype\": \"number\",\n        \"std\": 92379,\n        \"min\": 171,\n        \"max\": 6500000,\n        \"num_unique_values\": 3019,\n        \"samples\": [\n          56075,\n          75421,\n          143275\n        ],\n        \"semantic_type\": \"\",\n        \"description\": \"\"\n      }\n    },\n    {\n      \"column\": \"Fuel_Type\",\n      \"properties\": {\n        \"dtype\": \"category\",\n        \"num_unique_values\": 3,\n        \"samples\": [\n          \"Diesel\",\n          \"Petrol\",\n          \"Electric\"\n        ],\n        \"semantic_type\": \"\",\n        \"description\": \"\"\n      }\n    },\n    {\n      \"column\": \"Transmission\",\n      \"properties\": {\n        \"dtype\": \"category\",\n        \"num_unique_values\": 2,\n        \"samples\": [\n          \"Automatic\",\n          \"Manual\"\n        ],\n        \"semantic_type\": \"\",\n        \"description\": \"\"\n      }\n    },\n    {\n      \"column\": \"Owner_Type\",\n      \"properties\": {\n        \"dtype\": \"category\",\n        \"num_unique_values\": 4,\n        \"samples\": [\n          \"Second\",\n          \"Third\"\n        ],\n        \"semantic_type\": \"\",\n        \"description\": \"\"\n      }\n    },\n    {\n      \"column\": \"Mileage\",\n      \"properties\": {\n        \"dtype\": \"category\",\n        \"num_unique_values\": 419,\n        \"samples\": [\n          \"18.16 kmpl\",\n          \"23.84 kmpl\"\n        ],\n        \"semantic_type\": \"\",\n        \"description\": \"\"\n      }\n    },\n    {\n      \"column\": \"Engine\",\n      \"properties\": {\n        \"dtype\": \"category\",\n        \"num_unique_values\": 140,\n        \"samples\": [\n          \"2495 CC\",\n          \"1794 CC\"\n        ],\n        \"semantic_type\": \"\",\n        \"description\": \"\"\n      }\n    },\n    {\n      \"column\": \"Power\",\n      \"properties\": {\n        \"dtype\": \"category\",\n        \"num_unique_values\": 361,\n        \"samples\": [\n          \"62.1 bhp\",\n          \"77 bhp\"\n        ],\n        \"semantic_type\": \"\",\n        \"description\": \"\"\n      }\n    },\n    {\n      \"column\": \"Seats\",\n      \"properties\": {\n        \"dtype\": \"number\",\n        \"std\": 0.8066681227182382,\n        \"min\": 2.0,\n        \"max\": 10.0,\n        \"num_unique_values\": 8,\n        \"samples\": [\n          7.0,\n          2.0\n        ],\n        \"semantic_type\": \"\",\n        \"description\": \"\"\n      }\n    },\n    {\n      \"column\": \"New_Price\",\n      \"properties\": {\n        \"dtype\": \"category\",\n        \"num_unique_values\": 534,\n        \"samples\": [\n          \"10.48 Lakh\",\n          \"14.1 Lakh\"\n        ],\n        \"semantic_type\": \"\",\n        \"description\": \"\"\n      }\n    },\n    {\n      \"column\": \"Price\",\n      \"properties\": {\n        \"dtype\": \"number\",\n        \"std\": 11.275965706808531,\n        \"min\": 0.44,\n        \"max\": 160.0,\n        \"num_unique_values\": 1366,\n        \"samples\": [\n          3.98,\n          3.78\n        ],\n        \"semantic_type\": \"\",\n        \"description\": \"\"\n      }\n    }\n  ]\n}"
            }
          },
          "metadata": {},
          "execution_count": 3
        }
      ]
    },
    {
      "cell_type": "markdown",
      "source": [
        "**a. Look for the missing values in all the columns and either impute them (replace with mean,\n",
        "median, or mode) or drop them.**"
      ],
      "metadata": {
        "id": "azKOaIXjNxyP"
      }
    },
    {
      "cell_type": "code",
      "source": [
        "print(\"Initial missing values count:\")\n",
        "print(df.isnull().sum())"
      ],
      "metadata": {
        "colab": {
          "base_uri": "https://localhost:8080/"
        },
        "id": "7c-8ju4FNuAR",
        "outputId": "a55ae32a-ace8-49ec-b933-78fbb36b4fe3"
      },
      "execution_count": 4,
      "outputs": [
        {
          "output_type": "stream",
          "name": "stdout",
          "text": [
            "Initial missing values count:\n",
            "Unnamed: 0              0\n",
            "Name                    0\n",
            "Location                0\n",
            "Year                    0\n",
            "Kilometers_Driven       0\n",
            "Fuel_Type               0\n",
            "Transmission            0\n",
            "Owner_Type              0\n",
            "Mileage                 2\n",
            "Engine                 36\n",
            "Power                  36\n",
            "Seats                  38\n",
            "New_Price            5032\n",
            "Price                   0\n",
            "dtype: int64\n"
          ]
        }
      ]
    },
    {
      "cell_type": "code",
      "source": [
        "for col in df.columns:\n",
        "    missing_count = df[col].isnull().sum()\n",
        "    if missing_count > 0:\n",
        "        if pd.api.types.is_numeric_dtype(df[col]):\n",
        "            # Impute numeric columns with the median\n",
        "            median_val = df[col].median()\n",
        "            df[col].fillna(median_val, inplace=True)\n",
        "            print(f\"Imputed {missing_count} missing values in numeric column '{col}' with median = {median_val}\")\n",
        "        else:\n",
        "            # Impute categorical columns with the mode\n",
        "            mode_val = df[col].mode()[0]\n",
        "            df[col].fillna(mode_val, inplace=True)\n",
        "            print(f\"Imputed {missing_count} missing values in categorical column '{col}' with mode = '{mode_val}'\")"
      ],
      "metadata": {
        "id": "LIMOVwq7N1tz"
      },
      "execution_count": 6,
      "outputs": []
    },
    {
      "cell_type": "code",
      "source": [
        "print(\"\\n Count of Missing values after imputation has been done:\")\n",
        "print(df.isnull().sum())"
      ],
      "metadata": {
        "colab": {
          "base_uri": "https://localhost:8080/"
        },
        "id": "joipfZmcN5By",
        "outputId": "5a11125a-fdac-4c17-bb5a-15fb449446bc"
      },
      "execution_count": 7,
      "outputs": [
        {
          "output_type": "stream",
          "name": "stdout",
          "text": [
            "\n",
            " Count of Missing values after imputation has been done:\n",
            "Unnamed: 0           0\n",
            "Name                 0\n",
            "Location             0\n",
            "Year                 0\n",
            "Kilometers_Driven    0\n",
            "Fuel_Type            0\n",
            "Transmission         0\n",
            "Owner_Type           0\n",
            "Mileage              0\n",
            "Engine               0\n",
            "Power                0\n",
            "Seats                0\n",
            "New_Price            0\n",
            "Price                0\n",
            "dtype: int64\n"
          ]
        }
      ]
    },
    {
      "cell_type": "markdown",
      "source": [
        "**Justification:**\n",
        "\n",
        "*To make sure the data was full, we started by identifying any columns that had missing values. Since the median is more resilient to outliers and more accurately captures the central tendency in skewed distributions, we used it to impute missing values for numeric columns. To preserve logical consistency and prevent the introduction of invisible categories, we employed the mode, or most frequent category, for categorical columns.*\n",
        "\n",
        "*By avoiding data loss from removing rows or columns, this method helps maintain the original distribution and guarantees that the imputed values are indicative of the available data. All missing values were successfully filled in after imputation, leaving the dataset clean and prepared for additional modeling or analysis*"
      ],
      "metadata": {
        "id": "38UjJffNOCJW"
      }
    },
    {
      "cell_type": "markdown",
      "source": [
        "**b. Remove the units from some of the attributes and only keep the numerical values (for\n",
        "example remove kmpl from “Mileage”, CC from “Engine”, bhp from “Power”, and lakh from\n",
        "“New_price”)**"
      ],
      "metadata": {
        "id": "rzcqsW_KOGOj"
      }
    },
    {
      "cell_type": "code",
      "source": [
        "def extract_numeric(value):\n",
        "    if pd.isnull(value):\n",
        "        return np.nan\n",
        "    try:\n",
        "        return float(value.split()[0].replace(',', ''))\n",
        "    except:\n",
        "        return np.nan\n",
        "\n",
        "# Clean Mileage, Engine, and Power columns\n",
        "df['Mileage'] = df['Mileage'].apply(extract_numeric)\n",
        "df['Engine'] = df['Engine'].apply(extract_numeric)\n",
        "df['Power'] = df['Power'].apply(extract_numeric)\n",
        "\n",
        "# Convert 'New_Price' to numeric rupees (e.g., '8.74 Lakh' -> 874000.0)\n",
        "def convert_new_price(value):\n",
        "    if pd.isnull(value):\n",
        "        return np.nan\n",
        "    try:\n",
        "        num, unit = value.split()\n",
        "        num = float(num.replace(',', ''))\n",
        "        if unit.lower() == 'lakh':\n",
        "            return num * 1e5\n",
        "        elif unit.lower() == 'cr':\n",
        "            return num * 1e7\n",
        "        else:\n",
        "            return np.nan\n",
        "    except:\n",
        "        return np.nan\n",
        "\n",
        "df['New_Price'] = df['New_Price'].apply(convert_new_price)\n"
      ],
      "metadata": {
        "id": "LN5pwArdN-bm"
      },
      "execution_count": 8,
      "outputs": []
    },
    {
      "cell_type": "code",
      "source": [
        "print(\"Check cleaned columns after removing units:\")\n",
        "print(df[['Mileage', 'Engine', 'Power', 'New_Price']].head())"
      ],
      "metadata": {
        "colab": {
          "base_uri": "https://localhost:8080/"
        },
        "id": "4YmsZyzlOORJ",
        "outputId": "88f51c5e-ba3b-41cc-fee4-2e633ffcbbc5"
      },
      "execution_count": 9,
      "outputs": [
        {
          "output_type": "stream",
          "name": "stdout",
          "text": [
            "Check cleaned columns after removing units:\n",
            "   Mileage  Engine   Power  New_Price\n",
            "0    19.67  1582.0  126.20   478000.0\n",
            "1    13.00  1199.0   88.70   861000.0\n",
            "2    20.77  1248.0   88.76   478000.0\n",
            "3    15.20  1968.0  140.80   478000.0\n",
            "4    23.08  1461.0   63.10   478000.0\n"
          ]
        }
      ]
    },
    {
      "cell_type": "markdown",
      "source": [
        "**c. Change the categorical variables (“Fuel_Type” and “Transmission”) into numerical one hot\n",
        "encoded value.**"
      ],
      "metadata": {
        "id": "nEvhdbY8OSXZ"
      }
    },
    {
      "cell_type": "code",
      "source": [
        "print(df.columns)\n"
      ],
      "metadata": {
        "colab": {
          "base_uri": "https://localhost:8080/"
        },
        "id": "SLqNJ3tpOTLf",
        "outputId": "1e71e4ce-8bc8-430b-fa71-d59871661f20"
      },
      "execution_count": 10,
      "outputs": [
        {
          "output_type": "stream",
          "name": "stdout",
          "text": [
            "Index(['Unnamed: 0', 'Name', 'Location', 'Year', 'Kilometers_Driven',\n",
            "       'Fuel_Type', 'Transmission', 'Owner_Type', 'Mileage', 'Engine', 'Power',\n",
            "       'Seats', 'New_Price', 'Price'],\n",
            "      dtype='object')\n"
          ]
        }
      ]
    },
    {
      "cell_type": "code",
      "source": [
        "# One-hot encoding for 'Fuel_Type' and 'Transmission' columns\n",
        "df_encoded = pd.get_dummies(df, columns=['Fuel_Type', 'Transmission'], prefix=['Fuel', 'Trans'], drop_first=True)\n",
        "\n",
        "# Display the updated dataframe with one-hot encoded columns\n",
        "print(\"Data after one-hot encoding 'Fuel_Type' and 'Transmission':\")\n",
        "print(df_encoded.head())\n"
      ],
      "metadata": {
        "colab": {
          "base_uri": "https://localhost:8080/"
        },
        "id": "Ru9bn3YiOWfb",
        "outputId": "f33c3932-5aa3-4591-b892-741c041b25ee"
      },
      "execution_count": 11,
      "outputs": [
        {
          "output_type": "stream",
          "name": "stdout",
          "text": [
            "Data after one-hot encoding 'Fuel_Type' and 'Transmission':\n",
            "   Unnamed: 0                              Name    Location  Year  \\\n",
            "0           1  Hyundai Creta 1.6 CRDi SX Option        Pune  2015   \n",
            "1           2                      Honda Jazz V     Chennai  2011   \n",
            "2           3                 Maruti Ertiga VDI     Chennai  2012   \n",
            "3           4   Audi A4 New 2.0 TDI Multitronic  Coimbatore  2013   \n",
            "4           6            Nissan Micra Diesel XV      Jaipur  2013   \n",
            "\n",
            "   Kilometers_Driven Owner_Type  Mileage  Engine   Power  Seats  New_Price  \\\n",
            "0              41000      First    19.67  1582.0  126.20    5.0   478000.0   \n",
            "1              46000      First    13.00  1199.0   88.70    5.0   861000.0   \n",
            "2              87000      First    20.77  1248.0   88.76    7.0   478000.0   \n",
            "3              40670     Second    15.20  1968.0  140.80    5.0   478000.0   \n",
            "4              86999      First    23.08  1461.0   63.10    5.0   478000.0   \n",
            "\n",
            "   Price  Fuel_Electric  Fuel_Petrol  Trans_Manual  \n",
            "0  12.50          False        False          True  \n",
            "1   4.50          False         True          True  \n",
            "2   6.00          False        False          True  \n",
            "3  17.74          False        False         False  \n",
            "4   3.50          False        False          True  \n"
          ]
        }
      ]
    },
    {
      "cell_type": "markdown",
      "source": [
        "**d.Create one more feature and add this column to the dataset (you can use mutate function in\n",
        "R for this). For example, you can calculate the current age of the car by subtracting “Year” value\n",
        "from the current year.**"
      ],
      "metadata": {
        "id": "kRJ25MgfO8S_"
      }
    },
    {
      "cell_type": "code",
      "source": [
        "current_year = 2025\n",
        "# Create  new column 'Age' by subtracting the 'Year' from the current year\n",
        "df['Age'] = current_year - df['Year']"
      ],
      "metadata": {
        "id": "ZGlP0_6tO2rW"
      },
      "execution_count": 12,
      "outputs": []
    },
    {
      "cell_type": "code",
      "source": [
        "print(\"Data with the new 'Age' feature:\")\n",
        "print(df[['Year', 'Age']].head())"
      ],
      "metadata": {
        "colab": {
          "base_uri": "https://localhost:8080/"
        },
        "id": "uq8NnFJtPCUq",
        "outputId": "8975d72f-71de-4395-bca8-02aba42b4210"
      },
      "execution_count": 13,
      "outputs": [
        {
          "output_type": "stream",
          "name": "stdout",
          "text": [
            "Data with the new 'Age' feature:\n",
            "   Year  Age\n",
            "0  2015   10\n",
            "1  2011   14\n",
            "2  2012   13\n",
            "3  2013   12\n",
            "4  2013   12\n"
          ]
        }
      ]
    },
    {
      "cell_type": "code",
      "source": [
        "print(df.head())\n",
        ""
      ],
      "metadata": {
        "colab": {
          "base_uri": "https://localhost:8080/"
        },
        "id": "ZPS9v2wBPEmu",
        "outputId": "598c5157-610f-440a-8e5b-c7c1623e8893"
      },
      "execution_count": 14,
      "outputs": [
        {
          "output_type": "stream",
          "name": "stdout",
          "text": [
            "   Unnamed: 0                              Name    Location  Year  \\\n",
            "0           1  Hyundai Creta 1.6 CRDi SX Option        Pune  2015   \n",
            "1           2                      Honda Jazz V     Chennai  2011   \n",
            "2           3                 Maruti Ertiga VDI     Chennai  2012   \n",
            "3           4   Audi A4 New 2.0 TDI Multitronic  Coimbatore  2013   \n",
            "4           6            Nissan Micra Diesel XV      Jaipur  2013   \n",
            "\n",
            "   Kilometers_Driven Fuel_Type Transmission Owner_Type  Mileage  Engine  \\\n",
            "0              41000    Diesel       Manual      First    19.67  1582.0   \n",
            "1              46000    Petrol       Manual      First    13.00  1199.0   \n",
            "2              87000    Diesel       Manual      First    20.77  1248.0   \n",
            "3              40670    Diesel    Automatic     Second    15.20  1968.0   \n",
            "4              86999    Diesel       Manual      First    23.08  1461.0   \n",
            "\n",
            "    Power  Seats  New_Price  Price  Age  \n",
            "0  126.20    5.0   478000.0  12.50   10  \n",
            "1   88.70    5.0   861000.0   4.50   14  \n",
            "2   88.76    7.0   478000.0   6.00   13  \n",
            "3  140.80    5.0   478000.0  17.74   12  \n",
            "4   63.10    5.0   478000.0   3.50   12  \n"
          ]
        }
      ]
    },
    {
      "cell_type": "markdown",
      "source": [
        "**e. Perform select, filter, rename, mutate, arrange and summarize with group by operations (or\n",
        "their equivalent operations in python) on this dataset.**"
      ],
      "metadata": {
        "id": "SM6f5OtqPIlt"
      }
    },
    {
      "cell_type": "code",
      "source": [
        "\n",
        "# Using SELECT\n",
        "df_selected = df[['Name', 'Year', 'Kilometers_Driven', 'Fuel_Type', 'Transmission', 'Price']]\n",
        "print(\"Selected Columns:\")\n",
        "print(df_selected.head())"
      ],
      "metadata": {
        "colab": {
          "base_uri": "https://localhost:8080/"
        },
        "id": "NcBkVQoVPG_o",
        "outputId": "8799594b-73e8-4319-b327-d83159d8ee48"
      },
      "execution_count": 15,
      "outputs": [
        {
          "output_type": "stream",
          "name": "stdout",
          "text": [
            "Selected Columns:\n",
            "                               Name  Year  Kilometers_Driven Fuel_Type  \\\n",
            "0  Hyundai Creta 1.6 CRDi SX Option  2015              41000    Diesel   \n",
            "1                      Honda Jazz V  2011              46000    Petrol   \n",
            "2                 Maruti Ertiga VDI  2012              87000    Diesel   \n",
            "3   Audi A4 New 2.0 TDI Multitronic  2013              40670    Diesel   \n",
            "4            Nissan Micra Diesel XV  2013              86999    Diesel   \n",
            "\n",
            "  Transmission  Price  \n",
            "0       Manual  12.50  \n",
            "1       Manual   4.50  \n",
            "2       Manual   6.00  \n",
            "3    Automatic  17.74  \n",
            "4       Manual   3.50  \n"
          ]
        }
      ]
    },
    {
      "cell_type": "code",
      "source": [
        "# Using FILTER\n",
        "df_filtered = df_selected[(df_selected['Year'] > 2010) & (df_selected['Price'] <= 10.0)]\n",
        "print(\"\\nFiltered Rows (Year > 2010 and Price <= 10):\")\n",
        "print(df_filtered.head())"
      ],
      "metadata": {
        "colab": {
          "base_uri": "https://localhost:8080/"
        },
        "id": "wav_dUZ_Pwpj",
        "outputId": "5a07ae8a-d697-4507-c69e-cb87eee66acb"
      },
      "execution_count": 16,
      "outputs": [
        {
          "output_type": "stream",
          "name": "stdout",
          "text": [
            "\n",
            "Filtered Rows (Year > 2010 and Price <= 10):\n",
            "                                  Name  Year  Kilometers_Driven Fuel_Type  \\\n",
            "1                         Honda Jazz V  2011              46000    Petrol   \n",
            "2                    Maruti Ertiga VDI  2012              87000    Diesel   \n",
            "4               Nissan Micra Diesel XV  2013              86999    Diesel   \n",
            "6  Volkswagen Vento Diesel Comfortline  2013              64430    Diesel   \n",
            "7       Tata Indica Vista Quadrajet LS  2012              65932    Diesel   \n",
            "\n",
            "  Transmission  Price  \n",
            "1       Manual   4.50  \n",
            "2       Manual   6.00  \n",
            "4       Manual   3.50  \n",
            "6       Manual   5.20  \n",
            "7       Manual   1.95  \n"
          ]
        }
      ]
    },
    {
      "cell_type": "code",
      "source": [
        "# Using RENAME: Rename columns for clarity\n",
        "df_renamed = df_filtered.rename(columns={'Kilometers_Driven': 'Kms_Driven', 'Price': 'Sale_Price'})\n",
        "print(\"\\nData after Renaming Columns:\")\n",
        "print(df_renamed.head())\n",
        ""
      ],
      "metadata": {
        "colab": {
          "base_uri": "https://localhost:8080/"
        },
        "id": "nNnO0hpNSaLK",
        "outputId": "4e4e6b07-c47b-4a0b-d16b-3093ba01bdf3"
      },
      "execution_count": 17,
      "outputs": [
        {
          "output_type": "stream",
          "name": "stdout",
          "text": [
            "\n",
            "Data after Renaming Columns:\n",
            "                                  Name  Year  Kms_Driven Fuel_Type  \\\n",
            "1                         Honda Jazz V  2011       46000    Petrol   \n",
            "2                    Maruti Ertiga VDI  2012       87000    Diesel   \n",
            "4               Nissan Micra Diesel XV  2013       86999    Diesel   \n",
            "6  Volkswagen Vento Diesel Comfortline  2013       64430    Diesel   \n",
            "7       Tata Indica Vista Quadrajet LS  2012       65932    Diesel   \n",
            "\n",
            "  Transmission  Sale_Price  \n",
            "1       Manual        4.50  \n",
            "2       Manual        6.00  \n",
            "4       Manual        3.50  \n",
            "6       Manual        5.20  \n",
            "7       Manual        1.95  \n"
          ]
        }
      ]
    },
    {
      "cell_type": "code",
      "source": [
        "#Using MUTATE: Create a new column\n",
        "df_renamed['Age'] = 2025 - df_renamed['Year']\n",
        "print(\"\\nData after Adding 'Age' Column:\")\n",
        "print(df_renamed.head())"
      ],
      "metadata": {
        "colab": {
          "base_uri": "https://localhost:8080/"
        },
        "id": "IoP_7HnaTX8T",
        "outputId": "03a33096-5579-4346-81a9-4dd6f2fdef3b"
      },
      "execution_count": 18,
      "outputs": [
        {
          "output_type": "stream",
          "name": "stdout",
          "text": [
            "\n",
            "Data after Adding 'Age' Column:\n",
            "                                  Name  Year  Kms_Driven Fuel_Type  \\\n",
            "1                         Honda Jazz V  2011       46000    Petrol   \n",
            "2                    Maruti Ertiga VDI  2012       87000    Diesel   \n",
            "4               Nissan Micra Diesel XV  2013       86999    Diesel   \n",
            "6  Volkswagen Vento Diesel Comfortline  2013       64430    Diesel   \n",
            "7       Tata Indica Vista Quadrajet LS  2012       65932    Diesel   \n",
            "\n",
            "  Transmission  Sale_Price  Age  \n",
            "1       Manual        4.50   14  \n",
            "2       Manual        6.00   13  \n",
            "4       Manual        3.50   12  \n",
            "6       Manual        5.20   12  \n",
            "7       Manual        1.95   13  \n"
          ]
        }
      ]
    },
    {
      "cell_type": "code",
      "source": [
        "\n",
        "#Using ARRANGE: Sort the dataset based on a column\n",
        "df_sorted = df_renamed.sort_values(by='Sale_Price')\n",
        "print(\"\\nData Sorted by 'Sale_Price':\")\n",
        "print(df_sorted.head())"
      ],
      "metadata": {
        "colab": {
          "base_uri": "https://localhost:8080/"
        },
        "id": "hhtubE5OThOC",
        "outputId": "7afe25fc-8e9e-4723-a056-91ab5d05b4ca"
      },
      "execution_count": 19,
      "outputs": [
        {
          "output_type": "stream",
          "name": "stdout",
          "text": [
            "\n",
            "Data Sorted by 'Sale_Price':\n",
            "                          Name  Year  Kms_Driven Fuel_Type Transmission  \\\n",
            "1660              Tata Nano Lx  2011       65000    Petrol       Manual   \n",
            "4821          Tata Nano STD SE  2012       80000    Petrol       Manual   \n",
            "2254              Tata Nano XT  2011       50000    Petrol       Manual   \n",
            "4813  Tata Indica V2 DLE BSIII  2011       96000    Diesel       Manual   \n",
            "340     Chevrolet Spark 1.0 LS  2011       21000    Petrol       Manual   \n",
            "\n",
            "      Sale_Price  Age  \n",
            "1660        0.44   14  \n",
            "4821        0.53   13  \n",
            "2254        0.75   14  \n",
            "4813        0.91   14  \n",
            "340         0.95   14  \n"
          ]
        }
      ]
    },
    {
      "cell_type": "code",
      "source": [
        "# Using SUMMARIZE:  Group data and aggregate\n",
        "summary = df.groupby('Fuel_Type').agg(\n",
        "    Avg_Sale_Price=('Price', 'mean'),\n",
        "    Avg_Age=('Year', lambda x: 2025 - x.mean()),  # Calculate average car age\n",
        "    Count=('Fuel_Type', 'count')\n",
        ").reset_index()\n",
        "print(\"\\nSummary Statistics by Fuel_Type:\")\n",
        "print(summary)\n",
        "\n"
      ],
      "metadata": {
        "colab": {
          "base_uri": "https://localhost:8080/"
        },
        "id": "fzNkx20ATlhm",
        "outputId": "9168bb99-e56e-464c-fd32-d3e427027b97"
      },
      "execution_count": 20,
      "outputs": [
        {
          "output_type": "stream",
          "name": "stdout",
          "text": [
            "\n",
            "Summary Statistics by Fuel_Type:\n",
            "  Fuel_Type  Avg_Sale_Price    Avg_Age  Count\n",
            "0    Diesel       12.960686  11.209111   3161\n",
            "1  Electric       12.875000  11.500000      2\n",
            "2    Petrol        5.756688  11.954918   2684\n"
          ]
        }
      ]
    }
  ]
}